{
  "nbformat": 4,
  "nbformat_minor": 0,
  "metadata": {
    "kernelspec": {
      "display_name": "Python 3",
      "language": "python",
      "name": "python3"
    },
    "language_info": {
      "codemirror_mode": {
        "name": "ipython",
        "version": 3
      },
      "file_extension": ".py",
      "mimetype": "text/x-python",
      "name": "python",
      "nbconvert_exporter": "python",
      "pygments_lexer": "ipython3",
      "version": "3.7.4"
    },
    "colab": {
      "name": "python-1-PyladiesSP.ipynb",
      "provenance": []
    }
  },
  "cells": [
    {
      "cell_type": "markdown",
      "metadata": {
        "id": "KJpgw3XOOcJ2",
        "colab_type": "text"
      },
      "source": [
        "# PyLadies SP - Introdução à lógica de programação com Python\n",
        "## Data: 18/01/2020 \n",
        "Anotações do curso - daviny.vidal.nom.br\n"
      ]
    },
    {
      "cell_type": "markdown",
      "metadata": {
        "id": "PJy8mBApOcJ-",
        "colab_type": "text"
      },
      "source": [
        "## Aula da manhã"
      ]
    },
    {
      "cell_type": "code",
      "metadata": {
        "id": "s9VPziWkOcKB",
        "colab_type": "code",
        "outputId": "6b2220d7-b02a-47cc-a35d-3e35773518fb",
        "colab": {}
      },
      "source": [
        "# função print\n",
        "print(\"Hello, Ladies!\")"
      ],
      "execution_count": 0,
      "outputs": [
        {
          "output_type": "stream",
          "text": [
            "Hello, Ladies!\n"
          ],
          "name": "stdout"
        }
      ]
    },
    {
      "cell_type": "code",
      "metadata": {
        "id": "kxoTR7liOcKJ",
        "colab_type": "code",
        "outputId": "a2bb45cf-57ef-4a59-c1a6-834f2d5d9c19",
        "colab": {
          "base_uri": "https://localhost:8080/",
          "height": 34
        }
      },
      "source": [
        "print(\"Oi, meu nome é daviny!\")"
      ],
      "execution_count": 5,
      "outputs": [
        {
          "output_type": "stream",
          "text": [
            "Oi, meu nome é daviny!\n"
          ],
          "name": "stdout"
        }
      ]
    },
    {
      "cell_type": "code",
      "metadata": {
        "id": "GEfBuAmFOcKS",
        "colab_type": "code",
        "outputId": "5d8c9a60-f81b-4a4c-e676-56709b5f4204",
        "colab": {}
      },
      "source": [
        "# criando a variável\n",
        "doce = \"brigadeiro\"\n",
        "doce"
      ],
      "execution_count": 0,
      "outputs": [
        {
          "output_type": "execute_result",
          "data": {
            "text/plain": [
              "'brigadeiro'"
            ]
          },
          "metadata": {
            "tags": []
          },
          "execution_count": 62
        }
      ]
    },
    {
      "cell_type": "code",
      "metadata": {
        "id": "8HXa_DXOOcKX",
        "colab_type": "code",
        "outputId": "5554e21f-5373-40fe-82f0-7b7ca86da807",
        "colab": {}
      },
      "source": [
        "# endereçamento - função id(variavel)\n",
        "id(doce)\n",
        "id(\"brigadeiro\")"
      ],
      "execution_count": 0,
      "outputs": [
        {
          "output_type": "execute_result",
          "data": {
            "text/plain": [
              "2963155035824"
            ]
          },
          "metadata": {
            "tags": []
          },
          "execution_count": 63
        }
      ]
    },
    {
      "cell_type": "markdown",
      "metadata": {
        "id": "bIuwL2yVOcKc",
        "colab_type": "text"
      },
      "source": [
        "### Tipos de variáveis"
      ]
    },
    {
      "cell_type": "code",
      "metadata": {
        "id": "ue4mon6YOcKd",
        "colab_type": "code",
        "colab": {}
      },
      "source": [
        "# Numéricos\n",
        "pasteis = 2\n",
        "coxinhas = 0\n",
        "amigos_no_face = 523\n",
        "\n",
        "# floats - use pontos ao invés de virgulas\n",
        "\n",
        "altura = 2.0\n",
        "preco = 4.5\n",
        "numero = 4E-2 #potencia de 10! quatro vezes dez elevado à -2  (4 x 10^-2)\n",
        "\n",
        "# complexos - parte imaginária está junto com j\n",
        "\n",
        "g = 2+3j\n",
        "h = 4+1j\n",
        "i = 2.3j\n",
        "\n",
        "# usar ponto para as casas decimais\n",
        "\n",
        "\n",
        "# strings/literais\n",
        "\n",
        "heroina = \"Mulher maravilha\"\n",
        "telefone = \"2145-8970\"\n",
        "email = \"saopaulo@pyladies.com\"\n",
        "\n",
        "# boleana \n",
        "\n",
        "aprovada = True\n",
        "nao_aprovada = False\n"
      ],
      "execution_count": 0,
      "outputs": []
    },
    {
      "cell_type": "code",
      "metadata": {
        "id": "ZaYKl5ofOcKh",
        "colab_type": "code",
        "outputId": "d992e35b-3581-4b90-aa70-557c30b41b4e",
        "colab": {}
      },
      "source": [
        "# funcao type para descobrir o tipo de variavel\n",
        "type(pasteis)"
      ],
      "execution_count": 0,
      "outputs": [
        {
          "output_type": "execute_result",
          "data": {
            "text/plain": [
              "int"
            ]
          },
          "metadata": {
            "tags": []
          },
          "execution_count": 65
        }
      ]
    },
    {
      "cell_type": "code",
      "metadata": {
        "id": "NRFBJXgWOcKl",
        "colab_type": "code",
        "outputId": "80d41f64-1043-468d-a013-23557a0b8217",
        "colab": {}
      },
      "source": [
        "type(coxinhas)"
      ],
      "execution_count": 0,
      "outputs": [
        {
          "output_type": "execute_result",
          "data": {
            "text/plain": [
              "int"
            ]
          },
          "metadata": {
            "tags": []
          },
          "execution_count": 66
        }
      ]
    },
    {
      "cell_type": "code",
      "metadata": {
        "id": "uMmHBaKuOcKo",
        "colab_type": "code",
        "outputId": "9deb16bd-b2a7-4931-a52f-cf9c6301f4a4",
        "colab": {}
      },
      "source": [
        "type(amigos_no_face)"
      ],
      "execution_count": 0,
      "outputs": [
        {
          "output_type": "execute_result",
          "data": {
            "text/plain": [
              "int"
            ]
          },
          "metadata": {
            "tags": []
          },
          "execution_count": 67
        }
      ]
    },
    {
      "cell_type": "code",
      "metadata": {
        "id": "BKo5klMHOcKs",
        "colab_type": "code",
        "outputId": "3f7176ef-1e19-47c9-ebf9-2720dd5cc59d",
        "colab": {}
      },
      "source": [
        "type(altura)"
      ],
      "execution_count": 0,
      "outputs": [
        {
          "output_type": "execute_result",
          "data": {
            "text/plain": [
              "float"
            ]
          },
          "metadata": {
            "tags": []
          },
          "execution_count": 68
        }
      ]
    },
    {
      "cell_type": "code",
      "metadata": {
        "id": "aabfnJ1aOcKx",
        "colab_type": "code",
        "outputId": "1f6721fc-c5cf-4eb7-be6d-2682222cf8c7",
        "colab": {}
      },
      "source": [
        "type(preco)"
      ],
      "execution_count": 0,
      "outputs": [
        {
          "output_type": "execute_result",
          "data": {
            "text/plain": [
              "float"
            ]
          },
          "metadata": {
            "tags": []
          },
          "execution_count": 69
        }
      ]
    },
    {
      "cell_type": "code",
      "metadata": {
        "id": "sip_Ebq9OcK0",
        "colab_type": "code",
        "outputId": "d38fda90-a4ad-4b50-f279-2c622631c0c8",
        "colab": {}
      },
      "source": [
        "type(numero)"
      ],
      "execution_count": 0,
      "outputs": [
        {
          "output_type": "execute_result",
          "data": {
            "text/plain": [
              "float"
            ]
          },
          "metadata": {
            "tags": []
          },
          "execution_count": 70
        }
      ]
    },
    {
      "cell_type": "code",
      "metadata": {
        "id": "Wwn3WAIUOcK4",
        "colab_type": "code",
        "outputId": "c0c685e0-4c81-49d3-a393-fd92e7977953",
        "colab": {}
      },
      "source": [
        "type(g)"
      ],
      "execution_count": 0,
      "outputs": [
        {
          "output_type": "execute_result",
          "data": {
            "text/plain": [
              "complex"
            ]
          },
          "metadata": {
            "tags": []
          },
          "execution_count": 71
        }
      ]
    },
    {
      "cell_type": "code",
      "metadata": {
        "id": "8cYfsLFrOcK7",
        "colab_type": "code",
        "outputId": "ed8501a1-6d9e-42d8-f74e-b70da6bcd4d9",
        "colab": {}
      },
      "source": [
        "type(h)"
      ],
      "execution_count": 0,
      "outputs": [
        {
          "output_type": "execute_result",
          "data": {
            "text/plain": [
              "complex"
            ]
          },
          "metadata": {
            "tags": []
          },
          "execution_count": 72
        }
      ]
    },
    {
      "cell_type": "code",
      "metadata": {
        "id": "MLmrJkiiOcK_",
        "colab_type": "code",
        "outputId": "815e8f2a-a7ba-472f-d965-9e9c4b480da8",
        "colab": {}
      },
      "source": [
        "type(i)"
      ],
      "execution_count": 0,
      "outputs": [
        {
          "output_type": "execute_result",
          "data": {
            "text/plain": [
              "complex"
            ]
          },
          "metadata": {
            "tags": []
          },
          "execution_count": 73
        }
      ]
    },
    {
      "cell_type": "code",
      "metadata": {
        "id": "73KniEAAOcLD",
        "colab_type": "code",
        "outputId": "3833561a-21e0-4c0d-e7a0-bf34f97b3230",
        "colab": {}
      },
      "source": [
        "type(heroina)"
      ],
      "execution_count": 0,
      "outputs": [
        {
          "output_type": "execute_result",
          "data": {
            "text/plain": [
              "str"
            ]
          },
          "metadata": {
            "tags": []
          },
          "execution_count": 74
        }
      ]
    },
    {
      "cell_type": "code",
      "metadata": {
        "id": "hpcuipZ3OcLF",
        "colab_type": "code",
        "outputId": "141179ec-f613-4993-a914-b0a0f875fb36",
        "colab": {}
      },
      "source": [
        "type(telefone)"
      ],
      "execution_count": 0,
      "outputs": [
        {
          "output_type": "execute_result",
          "data": {
            "text/plain": [
              "str"
            ]
          },
          "metadata": {
            "tags": []
          },
          "execution_count": 75
        }
      ]
    },
    {
      "cell_type": "code",
      "metadata": {
        "id": "UOkqr7eYOcLI",
        "colab_type": "code",
        "outputId": "88f1d434-c0eb-451b-d968-de38c1dd34f3",
        "colab": {}
      },
      "source": [
        "type(email)"
      ],
      "execution_count": 0,
      "outputs": [
        {
          "output_type": "execute_result",
          "data": {
            "text/plain": [
              "str"
            ]
          },
          "metadata": {
            "tags": []
          },
          "execution_count": 76
        }
      ]
    },
    {
      "cell_type": "code",
      "metadata": {
        "id": "BtN_H_p8OcLJ",
        "colab_type": "code",
        "outputId": "6c42bc0f-ba79-4bc3-aa11-bf4f6cc3d10f",
        "colab": {}
      },
      "source": [
        "type(aprovada)"
      ],
      "execution_count": 0,
      "outputs": [
        {
          "output_type": "execute_result",
          "data": {
            "text/plain": [
              "bool"
            ]
          },
          "metadata": {
            "tags": []
          },
          "execution_count": 77
        }
      ]
    },
    {
      "cell_type": "code",
      "metadata": {
        "id": "0DAIoCgSOcLM",
        "colab_type": "code",
        "outputId": "74614564-57e1-42cb-b194-51cc1477a371",
        "colab": {}
      },
      "source": [
        "type(nao_aprovada)"
      ],
      "execution_count": 0,
      "outputs": [
        {
          "output_type": "execute_result",
          "data": {
            "text/plain": [
              "bool"
            ]
          },
          "metadata": {
            "tags": []
          },
          "execution_count": 78
        }
      ]
    },
    {
      "cell_type": "code",
      "metadata": {
        "id": "r1azZ046OcLP",
        "colab_type": "code",
        "outputId": "25b00c5f-cae3-4e20-fffa-c1009cd4a5a7",
        "colab": {}
      },
      "source": [
        "# slide 24\n",
        "#exercicio 1\n",
        "a = 2\n",
        "type(a)"
      ],
      "execution_count": 0,
      "outputs": [
        {
          "output_type": "execute_result",
          "data": {
            "text/plain": [
              "int"
            ]
          },
          "metadata": {
            "tags": []
          },
          "execution_count": 79
        }
      ]
    },
    {
      "cell_type": "code",
      "metadata": {
        "id": "nI13FSgfOcLV",
        "colab_type": "code",
        "outputId": "4be8cdb6-3072-4bae-8538-02195b77209a",
        "colab": {}
      },
      "source": [
        "nota = 8.7\n",
        "type(nota)"
      ],
      "execution_count": 0,
      "outputs": [
        {
          "output_type": "execute_result",
          "data": {
            "text/plain": [
              "float"
            ]
          },
          "metadata": {
            "tags": []
          },
          "execution_count": 80
        }
      ]
    },
    {
      "cell_type": "code",
      "metadata": {
        "id": "PXkHGzWVOcLZ",
        "colab_type": "code",
        "outputId": "c8b3bab7-bb19-43f6-da6a-2ef470da5b27",
        "colab": {}
      },
      "source": [
        "nome = \"Aninha\"\n",
        "type(nome)"
      ],
      "execution_count": 0,
      "outputs": [
        {
          "output_type": "execute_result",
          "data": {
            "text/plain": [
              "str"
            ]
          },
          "metadata": {
            "tags": []
          },
          "execution_count": 81
        }
      ]
    },
    {
      "cell_type": "code",
      "metadata": {
        "id": "QN_olfxTOcLc",
        "colab_type": "code",
        "outputId": "4b994c83-b606-4f4b-b14e-96026c3cffd6",
        "colab": {}
      },
      "source": [
        "m = True\n",
        "type(m)"
      ],
      "execution_count": 0,
      "outputs": [
        {
          "output_type": "execute_result",
          "data": {
            "text/plain": [
              "bool"
            ]
          },
          "metadata": {
            "tags": []
          },
          "execution_count": 82
        }
      ]
    },
    {
      "cell_type": "code",
      "metadata": {
        "id": "oyLAxz-fOcLg",
        "colab_type": "code",
        "outputId": "60e9bd7d-edfe-479c-a872-ac64b93d41fd",
        "colab": {}
      },
      "source": [
        "# exercicio 2\n",
        " m = true # o true e false precisa ter a primeira letra em maiúscula"
      ],
      "execution_count": 0,
      "outputs": [
        {
          "output_type": "error",
          "ename": "IndentationError",
          "evalue": "unexpected indent (<ipython-input-83-36ee7a3148c0>, line 2)",
          "traceback": [
            "\u001b[1;36m  File \u001b[1;32m\"<ipython-input-83-36ee7a3148c0>\"\u001b[1;36m, line \u001b[1;32m2\u001b[0m\n\u001b[1;33m    m = true # o true e false precisa ter a primeira letra em maiúscula\u001b[0m\n\u001b[1;37m    ^\u001b[0m\n\u001b[1;31mIndentationError\u001b[0m\u001b[1;31m:\u001b[0m unexpected indent\n"
          ]
        }
      ]
    },
    {
      "cell_type": "code",
      "metadata": {
        "id": "qFuTBo4iOcLj",
        "colab_type": "code",
        "colab": {}
      },
      "source": [
        "# atribuição múltipla\n",
        "\n",
        "nome1, nome2, nome3 = \"Ana\", \"Luisa\", \"Julia\""
      ],
      "execution_count": 0,
      "outputs": []
    },
    {
      "cell_type": "code",
      "metadata": {
        "id": "bO47PnZ9OcLm",
        "colab_type": "code",
        "outputId": "b92bdca2-52ba-4493-ef56-8c325e6297de",
        "colab": {}
      },
      "source": [
        "nome1"
      ],
      "execution_count": 0,
      "outputs": [
        {
          "output_type": "execute_result",
          "data": {
            "text/plain": [
              "'Ana'"
            ]
          },
          "metadata": {
            "tags": []
          },
          "execution_count": 85
        }
      ]
    },
    {
      "cell_type": "code",
      "metadata": {
        "id": "iVMdwxWZOcLp",
        "colab_type": "code",
        "colab": {}
      },
      "source": [
        "# declarar o tipo de var\n",
        "# python é dinamicamente tipada\n",
        "# int(), flot(), str()"
      ],
      "execution_count": 0,
      "outputs": []
    },
    {
      "cell_type": "code",
      "metadata": {
        "id": "RoDASUnEOcLr",
        "colab_type": "code",
        "colab": {}
      },
      "source": [
        "### Operadores"
      ],
      "execution_count": 0,
      "outputs": []
    },
    {
      "cell_type": "code",
      "metadata": {
        "id": "6yiaXKHdOcLt",
        "colab_type": "code",
        "colab": {}
      },
      "source": [
        "# operadores\n",
        "# potenciacao: **\n",
        "# resto de uma divisão: %"
      ],
      "execution_count": 0,
      "outputs": []
    },
    {
      "cell_type": "code",
      "metadata": {
        "id": "TE8j2wPROcLv",
        "colab_type": "code",
        "colab": {}
      },
      "source": [
        "a = 2\n",
        "b = 3 \n",
        "c = (a + b - 2 * a + a ** a)/5"
      ],
      "execution_count": 0,
      "outputs": []
    },
    {
      "cell_type": "code",
      "metadata": {
        "id": "B4sKK0_xOcLz",
        "colab_type": "code",
        "outputId": "5c46134f-bd68-47d8-a9d9-bba574a80eb9",
        "colab": {}
      },
      "source": [
        "c"
      ],
      "execution_count": 0,
      "outputs": [
        {
          "output_type": "execute_result",
          "data": {
            "text/plain": [
              "1.0"
            ]
          },
          "metadata": {
            "tags": []
          },
          "execution_count": 89
        }
      ]
    },
    {
      "cell_type": "code",
      "metadata": {
        "id": "A2sOp9CxOcL1",
        "colab_type": "code",
        "outputId": "30a041a0-e27a-4c82-fc5d-b8616d9fc10d",
        "colab": {}
      },
      "source": [
        "10/8"
      ],
      "execution_count": 0,
      "outputs": [
        {
          "output_type": "execute_result",
          "data": {
            "text/plain": [
              "1.25"
            ]
          },
          "metadata": {
            "tags": []
          },
          "execution_count": 90
        }
      ]
    },
    {
      "cell_type": "code",
      "metadata": {
        "id": "J9t5Rr1uOcL4",
        "colab_type": "code",
        "outputId": "ed39c11c-ab5e-4b87-da70-09f2f70d4a19",
        "colab": {}
      },
      "source": [
        "10 % 8"
      ],
      "execution_count": 0,
      "outputs": [
        {
          "output_type": "execute_result",
          "data": {
            "text/plain": [
              "2"
            ]
          },
          "metadata": {
            "tags": []
          },
          "execution_count": 91
        }
      ]
    },
    {
      "cell_type": "markdown",
      "metadata": {
        "id": "rMnTkN38OcL6",
        "colab_type": "text"
      },
      "source": [
        "### Operadores lógicos ou relacionais "
      ]
    },
    {
      "cell_type": "code",
      "metadata": {
        "id": "jQHqoHSpOcL7",
        "colab_type": "code",
        "colab": {}
      },
      "source": [
        "# slide 30\n",
        "a = 2\n",
        "b = 3"
      ],
      "execution_count": 0,
      "outputs": []
    },
    {
      "cell_type": "code",
      "metadata": {
        "id": "KEBFVE81OcL-",
        "colab_type": "code",
        "outputId": "6bc88969-afce-4826-bb8e-1c9bfc507a7e",
        "colab": {}
      },
      "source": [
        "a > b"
      ],
      "execution_count": 0,
      "outputs": [
        {
          "output_type": "execute_result",
          "data": {
            "text/plain": [
              "False"
            ]
          },
          "metadata": {
            "tags": []
          },
          "execution_count": 94
        }
      ]
    },
    {
      "cell_type": "code",
      "metadata": {
        "id": "uvpH7K-OOcMA",
        "colab_type": "code",
        "outputId": "8f37fdbb-0035-4dc8-ae8c-d2abdd8faaf9",
        "colab": {}
      },
      "source": [
        "b > a"
      ],
      "execution_count": 0,
      "outputs": [
        {
          "output_type": "execute_result",
          "data": {
            "text/plain": [
              "True"
            ]
          },
          "metadata": {
            "tags": []
          },
          "execution_count": 95
        }
      ]
    },
    {
      "cell_type": "code",
      "metadata": {
        "id": "04XdGXkOOcMC",
        "colab_type": "code",
        "outputId": "b5d3071a-d974-4a71-8a0d-f026676f4208",
        "colab": {}
      },
      "source": [
        "a == b"
      ],
      "execution_count": 0,
      "outputs": [
        {
          "output_type": "execute_result",
          "data": {
            "text/plain": [
              "False"
            ]
          },
          "metadata": {
            "tags": []
          },
          "execution_count": 96
        }
      ]
    },
    {
      "cell_type": "code",
      "metadata": {
        "id": "UVB2MJZgOcMF",
        "colab_type": "code",
        "outputId": "b327d407-fe25-45e5-9472-d6209b867e40",
        "colab": {}
      },
      "source": [
        "a != b "
      ],
      "execution_count": 0,
      "outputs": [
        {
          "output_type": "execute_result",
          "data": {
            "text/plain": [
              "True"
            ]
          },
          "metadata": {
            "tags": []
          },
          "execution_count": 97
        }
      ]
    },
    {
      "cell_type": "code",
      "metadata": {
        "id": "cDQ-ZOE9OcMI",
        "colab_type": "code",
        "outputId": "37fce91a-358b-4669-cfa6-11ed69f718be",
        "colab": {}
      },
      "source": [
        "a > b and b > a"
      ],
      "execution_count": 0,
      "outputs": [
        {
          "output_type": "execute_result",
          "data": {
            "text/plain": [
              "False"
            ]
          },
          "metadata": {
            "tags": []
          },
          "execution_count": 98
        }
      ]
    },
    {
      "cell_type": "code",
      "metadata": {
        "id": "VmcAhAq-OcMK",
        "colab_type": "code",
        "outputId": "d16f2939-9143-4495-c328-06b74ce8aa7e",
        "colab": {}
      },
      "source": [
        "a > b or b > a "
      ],
      "execution_count": 0,
      "outputs": [
        {
          "output_type": "execute_result",
          "data": {
            "text/plain": [
              "True"
            ]
          },
          "metadata": {
            "tags": []
          },
          "execution_count": 99
        }
      ]
    },
    {
      "cell_type": "code",
      "metadata": {
        "id": "WIEuR6oSOcML",
        "colab_type": "code",
        "outputId": "d2a0708a-0203-4ca8-ce49-c749b7238955",
        "colab": {}
      },
      "source": [
        "not (a != b) == False"
      ],
      "execution_count": 0,
      "outputs": [
        {
          "output_type": "execute_result",
          "data": {
            "text/plain": [
              "True"
            ]
          },
          "metadata": {
            "tags": []
          },
          "execution_count": 100
        }
      ]
    },
    {
      "cell_type": "code",
      "metadata": {
        "id": "OQauWeXtOcMO",
        "colab_type": "code",
        "colab": {}
      },
      "source": [
        "# exercicios slide 33\n",
        "\n",
        "a = 2\n",
        "b = 3\n",
        "\n",
        "c = 2.0\n",
        "d = \"2.0\""
      ],
      "execution_count": 0,
      "outputs": []
    },
    {
      "cell_type": "code",
      "metadata": {
        "id": "YRYOh2u5OcMQ",
        "colab_type": "code",
        "outputId": "601c9201-dfc2-4fb1-9c10-945e3154d758",
        "colab": {}
      },
      "source": [
        "a + b"
      ],
      "execution_count": 0,
      "outputs": [
        {
          "output_type": "execute_result",
          "data": {
            "text/plain": [
              "5"
            ]
          },
          "metadata": {
            "tags": []
          },
          "execution_count": 102
        }
      ]
    },
    {
      "cell_type": "code",
      "metadata": {
        "id": "gZIRUBQiOcMT",
        "colab_type": "code",
        "outputId": "f5a95e65-0a5d-4b42-b1b0-0b87fa80dbda",
        "colab": {}
      },
      "source": [
        "b ** a"
      ],
      "execution_count": 0,
      "outputs": [
        {
          "output_type": "execute_result",
          "data": {
            "text/plain": [
              "9"
            ]
          },
          "metadata": {
            "tags": []
          },
          "execution_count": 103
        }
      ]
    },
    {
      "cell_type": "code",
      "metadata": {
        "id": "5w33nNINOcMW",
        "colab_type": "code",
        "outputId": "5adfe71e-cb63-4aaf-f2ab-d73cd388bd61",
        "colab": {}
      },
      "source": [
        "a + c"
      ],
      "execution_count": 0,
      "outputs": [
        {
          "output_type": "execute_result",
          "data": {
            "text/plain": [
              "4.0"
            ]
          },
          "metadata": {
            "tags": []
          },
          "execution_count": 104
        }
      ]
    },
    {
      "cell_type": "code",
      "metadata": {
        "id": "0zciu7ZWOcMa",
        "colab_type": "code",
        "outputId": "01beb5ef-a637-43e8-ac03-f87e254cf4e3",
        "colab": {}
      },
      "source": [
        "type(a + c)"
      ],
      "execution_count": 0,
      "outputs": [
        {
          "output_type": "execute_result",
          "data": {
            "text/plain": [
              "float"
            ]
          },
          "metadata": {
            "tags": []
          },
          "execution_count": 105
        }
      ]
    },
    {
      "cell_type": "code",
      "metadata": {
        "id": "FTd8yMO4OcMf",
        "colab_type": "code",
        "outputId": "ed5710dd-befb-43ce-d482-c841f6815d2d",
        "colab": {}
      },
      "source": [
        "a + d # erro, não pode somar um número com texto!"
      ],
      "execution_count": 0,
      "outputs": [
        {
          "output_type": "error",
          "ename": "TypeError",
          "evalue": "unsupported operand type(s) for +: 'int' and 'str'",
          "traceback": [
            "\u001b[1;31m---------------------------------------------------------------------------\u001b[0m",
            "\u001b[1;31mTypeError\u001b[0m                                 Traceback (most recent call last)",
            "\u001b[1;32m<ipython-input-106-a20290e01701>\u001b[0m in \u001b[0;36m<module>\u001b[1;34m\u001b[0m\n\u001b[1;32m----> 1\u001b[1;33m \u001b[0ma\u001b[0m \u001b[1;33m+\u001b[0m \u001b[0md\u001b[0m \u001b[1;31m# erro, não pode somar um número com texto!\u001b[0m\u001b[1;33m\u001b[0m\u001b[1;33m\u001b[0m\u001b[0m\n\u001b[0m",
            "\u001b[1;31mTypeError\u001b[0m: unsupported operand type(s) for +: 'int' and 'str'"
          ]
        }
      ]
    },
    {
      "cell_type": "code",
      "metadata": {
        "id": "CzpcJyl_OcMh",
        "colab_type": "code",
        "outputId": "7505a490-bc07-4382-dac3-f912d081cbf4",
        "colab": {}
      },
      "source": [
        "a == c"
      ],
      "execution_count": 0,
      "outputs": [
        {
          "output_type": "execute_result",
          "data": {
            "text/plain": [
              "True"
            ]
          },
          "metadata": {
            "tags": []
          },
          "execution_count": 107
        }
      ]
    },
    {
      "cell_type": "code",
      "metadata": {
        "id": "pRHKG4LhOcMm",
        "colab_type": "code",
        "outputId": "df6b37e9-808e-4662-cb96-939b0a0b2ea9",
        "colab": {}
      },
      "source": [
        "a <= b"
      ],
      "execution_count": 0,
      "outputs": [
        {
          "output_type": "execute_result",
          "data": {
            "text/plain": [
              "True"
            ]
          },
          "metadata": {
            "tags": []
          },
          "execution_count": 108
        }
      ]
    },
    {
      "cell_type": "code",
      "metadata": {
        "id": "8F6mXAkfOcMo",
        "colab_type": "code",
        "outputId": "da43988f-6890-4886-c34f-a30c204ae944",
        "colab": {}
      },
      "source": [
        "a < b and b < c"
      ],
      "execution_count": 0,
      "outputs": [
        {
          "output_type": "execute_result",
          "data": {
            "text/plain": [
              "False"
            ]
          },
          "metadata": {
            "tags": []
          },
          "execution_count": 109
        }
      ]
    },
    {
      "cell_type": "code",
      "metadata": {
        "id": "saBsstRvOcMq",
        "colab_type": "code",
        "outputId": "1ab27115-9f9c-4225-ac48-5318687449de",
        "colab": {}
      },
      "source": [
        "a < b or b < c "
      ],
      "execution_count": 0,
      "outputs": [
        {
          "output_type": "execute_result",
          "data": {
            "text/plain": [
              "True"
            ]
          },
          "metadata": {
            "tags": []
          },
          "execution_count": 110
        }
      ]
    },
    {
      "cell_type": "code",
      "metadata": {
        "id": "mANkCWPZOcMs",
        "colab_type": "code",
        "outputId": "cc4579fe-798f-432c-f3ef-08cdcae13d6e",
        "colab": {}
      },
      "source": [
        "a > c or a >= c"
      ],
      "execution_count": 0,
      "outputs": [
        {
          "output_type": "execute_result",
          "data": {
            "text/plain": [
              "True"
            ]
          },
          "metadata": {
            "tags": []
          },
          "execution_count": 111
        }
      ]
    },
    {
      "cell_type": "code",
      "metadata": {
        "id": "SR3QAcuoOcMw",
        "colab_type": "code",
        "outputId": "720e6181-d9eb-41eb-f4ab-f4fefcab9a35",
        "colab": {}
      },
      "source": [
        "not(a != b and b <= (a**2) - 1)"
      ],
      "execution_count": 0,
      "outputs": [
        {
          "output_type": "execute_result",
          "data": {
            "text/plain": [
              "False"
            ]
          },
          "metadata": {
            "tags": []
          },
          "execution_count": 112
        }
      ]
    },
    {
      "cell_type": "code",
      "metadata": {
        "id": "HoOlkN82OcMy",
        "colab_type": "code",
        "outputId": "dd9bb840-b217-4af9-df47-6790a637b495",
        "colab": {}
      },
      "source": [
        "# slide 34\n",
        "# operações com strings\n",
        "nome = \"Penny... \"\n",
        "print(nome * 5)"
      ],
      "execution_count": 0,
      "outputs": [
        {
          "output_type": "stream",
          "text": [
            "Penny... Penny... Penny... Penny... Penny... \n"
          ],
          "name": "stdout"
        }
      ]
    },
    {
      "cell_type": "code",
      "metadata": {
        "id": "FLuAMYGOOcM0",
        "colab_type": "code",
        "outputId": "3b8c7f91-472a-4d95-c650-2041bc5138ea",
        "colab": {}
      },
      "source": [
        "# slide 35\n",
        "nome.upper() # upper() deixa todo o conteúdo da string maiúscula"
      ],
      "execution_count": 0,
      "outputs": [
        {
          "output_type": "execute_result",
          "data": {
            "text/plain": [
              "'PENNY... '"
            ]
          },
          "metadata": {
            "tags": []
          },
          "execution_count": 114
        }
      ]
    },
    {
      "cell_type": "code",
      "metadata": {
        "id": "fcPpnl4QOcM2",
        "colab_type": "code",
        "outputId": "cb8e5b6c-35d0-4134-d8fc-f9f6d00b125a",
        "colab": {}
      },
      "source": [
        "# slide 35\n",
        "\"beatriz\".upper()"
      ],
      "execution_count": 0,
      "outputs": [
        {
          "output_type": "execute_result",
          "data": {
            "text/plain": [
              "'BEATRIZ'"
            ]
          },
          "metadata": {
            "tags": []
          },
          "execution_count": 115
        }
      ]
    },
    {
      "cell_type": "code",
      "metadata": {
        "id": "T7mP7jMTOcM4",
        "colab_type": "code",
        "outputId": "ebb5194e-d627-4da8-e040-1415c151b9e8",
        "colab": {}
      },
      "source": [
        "# slide 36\n",
        "nome.lower()"
      ],
      "execution_count": 0,
      "outputs": [
        {
          "output_type": "execute_result",
          "data": {
            "text/plain": [
              "'penny... '"
            ]
          },
          "metadata": {
            "tags": []
          },
          "execution_count": 116
        }
      ]
    },
    {
      "cell_type": "code",
      "metadata": {
        "id": "p6QcljAXOcM8",
        "colab_type": "code",
        "outputId": "0ba359bb-ff2d-4c76-9062-050c8f0b378d",
        "colab": {}
      },
      "source": [
        "# slide 36 - Função lower() deixa todo o conteúdo da string minúsculo\n",
        "\"coxinha\".lower()"
      ],
      "execution_count": 0,
      "outputs": [
        {
          "output_type": "execute_result",
          "data": {
            "text/plain": [
              "'coxinha'"
            ]
          },
          "metadata": {
            "tags": []
          },
          "execution_count": 117
        }
      ]
    },
    {
      "cell_type": "code",
      "metadata": {
        "id": "uT-mrTHNOcM9",
        "colab_type": "code",
        "outputId": "7404f417-8ecd-4637-acac-6255df0e8d57",
        "colab": {}
      },
      "source": [
        "# slide 37\n",
        "\"PyLadies\" + \" \" + \"São Paulo\""
      ],
      "execution_count": 0,
      "outputs": [
        {
          "output_type": "execute_result",
          "data": {
            "text/plain": [
              "'PyLadies São Paulo'"
            ]
          },
          "metadata": {
            "tags": []
          },
          "execution_count": 118
        }
      ]
    },
    {
      "cell_type": "code",
      "metadata": {
        "id": "QH5xEw1TOcM-",
        "colab_type": "code",
        "outputId": "d021a7f9-662a-4e58-86c1-1024ca442c18",
        "colab": {}
      },
      "source": [
        "#slide 38 - Função capitalize() deixa o primeiro caractere da string como maiúsculo\n",
        "\"pão de queijo\".capitalize()"
      ],
      "execution_count": 0,
      "outputs": [
        {
          "output_type": "execute_result",
          "data": {
            "text/plain": [
              "'Pão de queijo'"
            ]
          },
          "metadata": {
            "tags": []
          },
          "execution_count": 119
        }
      ]
    },
    {
      "cell_type": "code",
      "metadata": {
        "id": "71AlklCkOcNC",
        "colab_type": "code",
        "outputId": "60e2f4da-1836-475b-f0db-2cfca0df1558",
        "colab": {}
      },
      "source": [
        "nome.capitalize()"
      ],
      "execution_count": 0,
      "outputs": [
        {
          "output_type": "execute_result",
          "data": {
            "text/plain": [
              "'Penny... '"
            ]
          },
          "metadata": {
            "tags": []
          },
          "execution_count": 120
        }
      ]
    },
    {
      "cell_type": "code",
      "metadata": {
        "id": "xwvN4q5DOcNE",
        "colab_type": "code",
        "outputId": "3f6e64d9-9626-4a01-e978-ffcef30a1e85",
        "colab": {}
      },
      "source": [
        "# slide 39\n",
        "\"bolacha ou biscoito\".title() # cada palavra começa em maiúscula"
      ],
      "execution_count": 0,
      "outputs": [
        {
          "output_type": "execute_result",
          "data": {
            "text/plain": [
              "'Bolacha Ou Biscoito'"
            ]
          },
          "metadata": {
            "tags": []
          },
          "execution_count": 121
        }
      ]
    },
    {
      "cell_type": "code",
      "metadata": {
        "id": "k7pjkaoHOcNF",
        "colab_type": "code",
        "colab": {}
      },
      "source": [
        "# função startswith() e endswith()"
      ],
      "execution_count": 0,
      "outputs": []
    },
    {
      "cell_type": "code",
      "metadata": {
        "id": "TATcEKxhOcNG",
        "colab_type": "code",
        "colab": {}
      },
      "source": [
        "#slide 41\n",
        "saudacao = \"Vida longa e próspera!\""
      ],
      "execution_count": 0,
      "outputs": []
    },
    {
      "cell_type": "code",
      "metadata": {
        "id": "UF3BOt5GOcNI",
        "colab_type": "code",
        "outputId": "1996974a-cc11-40c0-ac28-07e5a8c1b210",
        "colab": {}
      },
      "source": [
        "saudacao.startswith(\"V\")"
      ],
      "execution_count": 0,
      "outputs": [
        {
          "output_type": "execute_result",
          "data": {
            "text/plain": [
              "True"
            ]
          },
          "metadata": {
            "tags": []
          },
          "execution_count": 124
        }
      ]
    },
    {
      "cell_type": "code",
      "metadata": {
        "id": "_HwyyJxTOcNL",
        "colab_type": "code",
        "outputId": "88d09e97-4a33-431a-ccd3-9303009fdca5",
        "colab": {}
      },
      "source": [
        "saudacao.startswith(\"v\")"
      ],
      "execution_count": 0,
      "outputs": [
        {
          "output_type": "execute_result",
          "data": {
            "text/plain": [
              "False"
            ]
          },
          "metadata": {
            "tags": []
          },
          "execution_count": 125
        }
      ]
    },
    {
      "cell_type": "code",
      "metadata": {
        "id": "a3dleKDVOcNN",
        "colab_type": "code",
        "outputId": "cb307f3e-b65a-4bda-8434-b1ab4a1b9207",
        "colab": {}
      },
      "source": [
        "saudacao.endswith(\"!\")"
      ],
      "execution_count": 0,
      "outputs": [
        {
          "output_type": "execute_result",
          "data": {
            "text/plain": [
              "True"
            ]
          },
          "metadata": {
            "tags": []
          },
          "execution_count": 126
        }
      ]
    },
    {
      "cell_type": "code",
      "metadata": {
        "id": "PDSchoglOcNO",
        "colab_type": "code",
        "colab": {}
      },
      "source": [
        "# slide 42\n",
        "serie = \"DOCTOR WHO\""
      ],
      "execution_count": 0,
      "outputs": []
    },
    {
      "cell_type": "code",
      "metadata": {
        "id": "s2MjiGeqOcNQ",
        "colab_type": "code",
        "outputId": "7d1dca0a-105a-41d7-d4b5-965c5bbaa168",
        "colab": {}
      },
      "source": [
        "serie[0] # o primeiro elemento é o 0"
      ],
      "execution_count": 0,
      "outputs": [
        {
          "output_type": "execute_result",
          "data": {
            "text/plain": [
              "'D'"
            ]
          },
          "metadata": {
            "tags": []
          },
          "execution_count": 128
        }
      ]
    },
    {
      "cell_type": "code",
      "metadata": {
        "id": "edgWvKGbOcNT",
        "colab_type": "code",
        "outputId": "0e26cf00-bf9a-47e2-d4e5-e5eef35e1e22",
        "colab": {}
      },
      "source": [
        "serie[2]"
      ],
      "execution_count": 0,
      "outputs": [
        {
          "output_type": "execute_result",
          "data": {
            "text/plain": [
              "'C'"
            ]
          },
          "metadata": {
            "tags": []
          },
          "execution_count": 129
        }
      ]
    },
    {
      "cell_type": "code",
      "metadata": {
        "id": "BSc9yWOaOcNV",
        "colab_type": "code",
        "outputId": "6b774ffe-3803-41c2-dd3e-10a570036cdb",
        "colab": {}
      },
      "source": [
        "serie[6]"
      ],
      "execution_count": 0,
      "outputs": [
        {
          "output_type": "execute_result",
          "data": {
            "text/plain": [
              "' '"
            ]
          },
          "metadata": {
            "tags": []
          },
          "execution_count": 130
        }
      ]
    },
    {
      "cell_type": "code",
      "metadata": {
        "id": "dxops25EOcNW",
        "colab_type": "code",
        "outputId": "1dc59c25-5401-4368-b690-087008a13d4b",
        "colab": {}
      },
      "source": [
        "serie[-1] # ÚLTIMO elemento"
      ],
      "execution_count": 0,
      "outputs": [
        {
          "output_type": "execute_result",
          "data": {
            "text/plain": [
              "'O'"
            ]
          },
          "metadata": {
            "tags": []
          },
          "execution_count": 132
        }
      ]
    },
    {
      "cell_type": "code",
      "metadata": {
        "id": "s7DTdAJaOcNX",
        "colab_type": "code",
        "outputId": "afa31672-daaa-4947-8425-a1e728a63195",
        "colab": {}
      },
      "source": [
        "#slide 43 - slices/ fatiando as strings\n",
        "serie[6:9] # cuidado pois não inclui o último elemento"
      ],
      "execution_count": 0,
      "outputs": [
        {
          "output_type": "execute_result",
          "data": {
            "text/plain": [
              "' WH'"
            ]
          },
          "metadata": {
            "tags": []
          },
          "execution_count": 135
        }
      ]
    },
    {
      "cell_type": "code",
      "metadata": {
        "id": "9WCTEdOuOcNY",
        "colab_type": "code",
        "outputId": "f9ddd782-1150-4d2e-a631-80db3508c1df",
        "colab": {}
      },
      "source": [
        "serie[4:10]"
      ],
      "execution_count": 0,
      "outputs": [
        {
          "output_type": "execute_result",
          "data": {
            "text/plain": [
              "'OR WHO'"
            ]
          },
          "metadata": {
            "tags": []
          },
          "execution_count": 136
        }
      ]
    },
    {
      "cell_type": "code",
      "metadata": {
        "id": "5qfS5NALOcNb",
        "colab_type": "code",
        "outputId": "cc67448b-5e29-4569-b000-41d01d70015d",
        "colab": {}
      },
      "source": [
        "serie[7:] # do 7 em diante!"
      ],
      "execution_count": 0,
      "outputs": [
        {
          "output_type": "execute_result",
          "data": {
            "text/plain": [
              "'WHO'"
            ]
          },
          "metadata": {
            "tags": []
          },
          "execution_count": 138
        }
      ]
    },
    {
      "cell_type": "code",
      "metadata": {
        "id": "7uKuQzbzOcNc",
        "colab_type": "code",
        "outputId": "0ab8db04-a6b0-43eb-e1cc-09243d525928",
        "colab": {}
      },
      "source": [
        "serie[-1:]"
      ],
      "execution_count": 0,
      "outputs": [
        {
          "output_type": "execute_result",
          "data": {
            "text/plain": [
              "'O'"
            ]
          },
          "metadata": {
            "tags": []
          },
          "execution_count": 139
        }
      ]
    },
    {
      "cell_type": "code",
      "metadata": {
        "id": "gD2Yo-5tOcNd",
        "colab_type": "code",
        "outputId": "c73d0fee-444b-4466-8c52-546393344f48",
        "colab": {}
      },
      "source": [
        "# slide 44\n",
        "serie[4:10:2] # nao entendi bem o incremento de fatia"
      ],
      "execution_count": 0,
      "outputs": [
        {
          "output_type": "execute_result",
          "data": {
            "text/plain": [
              "'O H'"
            ]
          },
          "metadata": {
            "tags": []
          },
          "execution_count": 153
        }
      ]
    },
    {
      "cell_type": "code",
      "metadata": {
        "id": "mDo9v4bMOcNe",
        "colab_type": "code",
        "outputId": "bcf050c0-e8a9-4fd5-c6f4-a2ddd0061ca8",
        "colab": {}
      },
      "source": [
        "serie[::-1] # inverter a string"
      ],
      "execution_count": 0,
      "outputs": [
        {
          "output_type": "execute_result",
          "data": {
            "text/plain": [
              "'OHW ROTCOD'"
            ]
          },
          "metadata": {
            "tags": []
          },
          "execution_count": 154
        }
      ]
    },
    {
      "cell_type": "code",
      "metadata": {
        "id": "K-y9IllpOcNg",
        "colab_type": "code",
        "colab": {}
      },
      "source": [
        "# exercicio slide 45\n",
        "expectativa = \"stranger things\"\n"
      ],
      "execution_count": 0,
      "outputs": []
    },
    {
      "cell_type": "code",
      "metadata": {
        "id": "GOhoQFm-OcNh",
        "colab_type": "code",
        "outputId": "91d3082f-e1c1-47a9-fa20-86e7a8c2aaee",
        "colab": {}
      },
      "source": [
        "expectativa.upper()"
      ],
      "execution_count": 0,
      "outputs": [
        {
          "output_type": "execute_result",
          "data": {
            "text/plain": [
              "'STRANGER THINGS'"
            ]
          },
          "metadata": {
            "tags": []
          },
          "execution_count": 156
        }
      ]
    },
    {
      "cell_type": "code",
      "metadata": {
        "id": "fnsk7WPVOcNi",
        "colab_type": "code",
        "outputId": "772eb86d-2419-4848-a304-1f5ab4832234",
        "colab": {}
      },
      "source": [
        "expectativa.title()"
      ],
      "execution_count": 0,
      "outputs": [
        {
          "output_type": "execute_result",
          "data": {
            "text/plain": [
              "'Stranger Things'"
            ]
          },
          "metadata": {
            "tags": []
          },
          "execution_count": 157
        }
      ]
    },
    {
      "cell_type": "code",
      "metadata": {
        "id": "oumieQ4KOcNj",
        "colab_type": "code",
        "outputId": "e453600b-90b2-4e4e-c2d3-1106071adac0",
        "colab": {}
      },
      "source": [
        "expectativa[::-1]"
      ],
      "execution_count": 0,
      "outputs": [
        {
          "output_type": "execute_result",
          "data": {
            "text/plain": [
              "'sgniht regnarts'"
            ]
          },
          "metadata": {
            "tags": []
          },
          "execution_count": 159
        }
      ]
    },
    {
      "cell_type": "code",
      "metadata": {
        "id": "UNKbfAQAOcNk",
        "colab_type": "code",
        "outputId": "a923ae25-930e-44fc-f36f-cc4b435c25b6",
        "colab": {}
      },
      "source": [
        "# desafio slide 46\n",
        "var = \"Gatinho\"\n",
        "var[:-1] + \"a\""
      ],
      "execution_count": 0,
      "outputs": [
        {
          "output_type": "execute_result",
          "data": {
            "text/plain": [
              "'Gatinha'"
            ]
          },
          "metadata": {
            "tags": []
          },
          "execution_count": 162
        }
      ]
    },
    {
      "cell_type": "code",
      "metadata": {
        "id": "AlCx_0MNOcNo",
        "colab_type": "code",
        "outputId": "1aaf4595-7aa4-4d75-932c-acad878cc320",
        "colab": {}
      },
      "source": [
        "# slide 47\n",
        "\n",
        "len(var)"
      ],
      "execution_count": 0,
      "outputs": [
        {
          "output_type": "execute_result",
          "data": {
            "text/plain": [
              "7"
            ]
          },
          "metadata": {
            "tags": []
          },
          "execution_count": 164
        }
      ]
    },
    {
      "cell_type": "code",
      "metadata": {
        "id": "Fv2JcAqZOcNq",
        "colab_type": "code",
        "outputId": "b9710e6b-7116-458e-e08c-e4fe45d1d236",
        "colab": {}
      },
      "source": [
        "len(\"g a t i n h o\")"
      ],
      "execution_count": 0,
      "outputs": [
        {
          "output_type": "execute_result",
          "data": {
            "text/plain": [
              "13"
            ]
          },
          "metadata": {
            "tags": []
          },
          "execution_count": 165
        }
      ]
    },
    {
      "cell_type": "code",
      "metadata": {
        "id": "c8LK-em3OcNr",
        "colab_type": "code",
        "outputId": "f1ae2759-6307-4bbf-af41-2067e006dd2b",
        "colab": {}
      },
      "source": [
        "# slide 48 - find()\n",
        "\n",
        "var.find(\"a\")"
      ],
      "execution_count": 0,
      "outputs": [
        {
          "output_type": "execute_result",
          "data": {
            "text/plain": [
              "1"
            ]
          },
          "metadata": {
            "tags": []
          },
          "execution_count": 166
        }
      ]
    },
    {
      "cell_type": "code",
      "metadata": {
        "id": "nzbvWqK-OcNu",
        "colab_type": "code",
        "outputId": "ca8e8808-85fe-481c-8174-41e635df0571",
        "colab": {}
      },
      "source": [
        "\"Beatriz Milz\".find(\"i\") # quando tem mais de um, o find retorna apenas a posição do primeiro"
      ],
      "execution_count": 0,
      "outputs": [
        {
          "output_type": "execute_result",
          "data": {
            "text/plain": [
              "5"
            ]
          },
          "metadata": {
            "tags": []
          },
          "execution_count": 168
        }
      ]
    },
    {
      "cell_type": "code",
      "metadata": {
        "id": "YFHt_K0VOcNv",
        "colab_type": "code",
        "colab": {}
      },
      "source": [
        "# Slided 49\n",
        "\n",
        "abertura = 'Espaço: a fronteira final… audaciosamente indo onde ninguém jamais esteve.'"
      ],
      "execution_count": 0,
      "outputs": []
    },
    {
      "cell_type": "code",
      "metadata": {
        "id": "qBMRipsPOcNx",
        "colab_type": "code",
        "outputId": "6c91f4ba-aec6-4dfd-dfd5-4469ec9c7fdc",
        "colab": {}
      },
      "source": [
        "abertura.find(\"t\")"
      ],
      "execution_count": 0,
      "outputs": [
        {
          "output_type": "execute_result",
          "data": {
            "text/plain": [
              "14"
            ]
          },
          "metadata": {
            "tags": []
          },
          "execution_count": 182
        }
      ]
    },
    {
      "cell_type": "code",
      "metadata": {
        "id": "tcMutPtyOcNy",
        "colab_type": "code",
        "outputId": "0e577f60-f3f8-40a0-dcd7-6446a81eaaf6",
        "colab": {}
      },
      "source": [
        "abertura.find(\"a\", 13) # primeira a posição da primeira ocorrencia a partir da posição da posição 13"
      ],
      "execution_count": 0,
      "outputs": [
        {
          "output_type": "execute_result",
          "data": {
            "text/plain": [
              "18"
            ]
          },
          "metadata": {
            "tags": []
          },
          "execution_count": 185
        }
      ]
    },
    {
      "cell_type": "code",
      "metadata": {
        "id": "lCeAyePWOcNz",
        "colab_type": "code",
        "outputId": "c2104a57-4aa6-4b40-a030-8c22f75df567",
        "colab": {}
      },
      "source": [
        "abertura.find(\"!\") # se não encontra o caracter, retornará -1"
      ],
      "execution_count": 0,
      "outputs": [
        {
          "output_type": "execute_result",
          "data": {
            "text/plain": [
              "-1"
            ]
          },
          "metadata": {
            "tags": []
          },
          "execution_count": 184
        }
      ]
    },
    {
      "cell_type": "code",
      "metadata": {
        "id": "Sosir1N1OcN1",
        "colab_type": "code",
        "outputId": "d6ff7dc2-2c24-45fc-f4f9-333877d3fa5b",
        "colab": {}
      },
      "source": [
        "# listas! slide 51\n",
        "\n",
        "meu_bicho = [\"gato\", 9, True]\n",
        "meu_bicho[0]"
      ],
      "execution_count": 0,
      "outputs": [
        {
          "output_type": "execute_result",
          "data": {
            "text/plain": [
              "'gato'"
            ]
          },
          "metadata": {
            "tags": []
          },
          "execution_count": 187
        }
      ]
    },
    {
      "cell_type": "code",
      "metadata": {
        "id": "qPp0PB3KOcN7",
        "colab_type": "code",
        "outputId": "b73a8673-5012-4e4d-c07b-4ce8597046f8",
        "colab": {}
      },
      "source": [
        "meu_bicho = [\"gato\", 9, True, [\"preto\", \"branco\"]]\n",
        "meu_bicho[3]"
      ],
      "execution_count": 0,
      "outputs": [
        {
          "output_type": "execute_result",
          "data": {
            "text/plain": [
              "['preto', 'branco']"
            ]
          },
          "metadata": {
            "tags": []
          },
          "execution_count": 189
        }
      ]
    },
    {
      "cell_type": "code",
      "metadata": {
        "id": "EBQY0pPGOcN-",
        "colab_type": "code",
        "colab": {}
      },
      "source": [
        "# append - slide 54\n",
        "nomedaserie = [\"Gotham\", \"A\", \"Dark\"]"
      ],
      "execution_count": 0,
      "outputs": []
    },
    {
      "cell_type": "code",
      "metadata": {
        "id": "8aMBSxqKOcN_",
        "colab_type": "code",
        "colab": {}
      },
      "source": [
        "nomedaserie.append(\"Knight\")"
      ],
      "execution_count": 0,
      "outputs": []
    },
    {
      "cell_type": "code",
      "metadata": {
        "id": "cqcJ2d0_OcN_",
        "colab_type": "code",
        "outputId": "96915510-284f-4199-df58-18467a90fad0",
        "colab": {}
      },
      "source": [
        "print(nomedaserie)"
      ],
      "execution_count": 0,
      "outputs": [
        {
          "output_type": "stream",
          "text": [
            "['Gotham', 'A', 'Dark', 'Knight']\n"
          ],
          "name": "stdout"
        }
      ]
    },
    {
      "cell_type": "code",
      "metadata": {
        "id": "9057jlbIOcOA",
        "colab_type": "code",
        "outputId": "da290c2e-7a66-4093-8cc6-5cc62125cb9d",
        "colab": {}
      },
      "source": [
        "# Join - slide 55\n",
        "\n",
        "herois = [\"Flash\", \"Arrow\", \"Supergirl\"]\n",
        "\n",
        "\" e \".join(herois)"
      ],
      "execution_count": 0,
      "outputs": [
        {
          "output_type": "execute_result",
          "data": {
            "text/plain": [
              "'Flash e Arrow e Supergirl'"
            ]
          },
          "metadata": {
            "tags": []
          },
          "execution_count": 194
        }
      ]
    },
    {
      "cell_type": "code",
      "metadata": {
        "id": "GuEaKcqoOcOC",
        "colab_type": "code",
        "outputId": "ad0ffe8a-b5a9-44b1-fa0b-2b474a9dc6ba",
        "colab": {}
      },
      "source": [
        "# split - slide 56\n",
        "\"1, 2, 3, 4\".split(\" , \") #interessante! útil para converter uma string em uma lista"
      ],
      "execution_count": 0,
      "outputs": [
        {
          "output_type": "execute_result",
          "data": {
            "text/plain": [
              "['1, 2, 3, 4']"
            ]
          },
          "metadata": {
            "tags": []
          },
          "execution_count": 198
        }
      ]
    },
    {
      "cell_type": "code",
      "metadata": {
        "id": "ghHxzeE2OcOD",
        "colab_type": "code",
        "outputId": "833d3cd3-c5cb-4ce6-8816-f496d0ebcc88",
        "colab": {}
      },
      "source": [
        "# TUPLAS! são imutáveis!!! slide 58\n",
        "# usar o parênteses, ou só separado por vírgula\n",
        "# ex:\n",
        "a = (3, 5, 8)\n",
        "a"
      ],
      "execution_count": 0,
      "outputs": [
        {
          "output_type": "execute_result",
          "data": {
            "text/plain": [
              "(3, 5, 8)"
            ]
          },
          "metadata": {
            "tags": []
          },
          "execution_count": 200
        }
      ]
    },
    {
      "cell_type": "code",
      "metadata": {
        "id": "SYnTsJcfOcOE",
        "colab_type": "code",
        "outputId": "feb79fa3-8bfb-4968-d944-c385ec7ff87f",
        "colab": {}
      },
      "source": [
        "b = 3, 5, 8\n",
        "b"
      ],
      "execution_count": 0,
      "outputs": [
        {
          "output_type": "execute_result",
          "data": {
            "text/plain": [
              "(3, 5, 8)"
            ]
          },
          "metadata": {
            "tags": []
          },
          "execution_count": 202
        }
      ]
    },
    {
      "cell_type": "code",
      "metadata": {
        "id": "1RP9KlVdOcOE",
        "colab_type": "code",
        "outputId": "1baa39f5-1379-4719-b74e-3ec8e74c1549",
        "colab": {}
      },
      "source": [
        "a == b"
      ],
      "execution_count": 0,
      "outputs": [
        {
          "output_type": "execute_result",
          "data": {
            "text/plain": [
              "True"
            ]
          },
          "metadata": {
            "tags": []
          },
          "execution_count": 203
        }
      ]
    },
    {
      "cell_type": "code",
      "metadata": {
        "id": "MKfWPQtjOcOF",
        "colab_type": "code",
        "outputId": "d7b29051-ae0e-4ec1-99b8-0b7bc53ab3d4",
        "colab": {}
      },
      "source": [
        "type(b)"
      ],
      "execution_count": 0,
      "outputs": [
        {
          "output_type": "execute_result",
          "data": {
            "text/plain": [
              "tuple"
            ]
          },
          "metadata": {
            "tags": []
          },
          "execution_count": 204
        }
      ]
    },
    {
      "cell_type": "code",
      "metadata": {
        "id": "jzNTS69aOcOH",
        "colab_type": "code",
        "outputId": "ce795723-6c4f-42a7-836c-d08761ae7b7a",
        "colab": {}
      },
      "source": [
        "# tupla com apenas um elemento - slide 59\n",
        "a = (1,)\n",
        "a"
      ],
      "execution_count": 0,
      "outputs": [
        {
          "output_type": "execute_result",
          "data": {
            "text/plain": [
              "(1,)"
            ]
          },
          "metadata": {
            "tags": []
          },
          "execution_count": 205
        }
      ]
    },
    {
      "cell_type": "code",
      "metadata": {
        "id": "tMDom62POcOJ",
        "colab_type": "code",
        "outputId": "7ce2555c-db4d-4830-c1da-98d6ff599df5",
        "colab": {}
      },
      "source": [
        "type(a)"
      ],
      "execution_count": 0,
      "outputs": [
        {
          "output_type": "execute_result",
          "data": {
            "text/plain": [
              "tuple"
            ]
          },
          "metadata": {
            "tags": []
          },
          "execution_count": 206
        }
      ]
    },
    {
      "cell_type": "code",
      "metadata": {
        "id": "H2dOTUKsOcOK",
        "colab_type": "code",
        "outputId": "ebeaa02a-9c3e-4802-fbb6-4566b8f17534",
        "colab": {}
      },
      "source": [
        "b = (1) # se tiver apenas um elemento e não colocar a vírgula, ele não entende como tupla!\n",
        "type(b) "
      ],
      "execution_count": 0,
      "outputs": [
        {
          "output_type": "execute_result",
          "data": {
            "text/plain": [
              "int"
            ]
          },
          "metadata": {
            "tags": []
          },
          "execution_count": 209
        }
      ]
    },
    {
      "cell_type": "code",
      "metadata": {
        "id": "BGT3Y7dMOcOK",
        "colab_type": "code",
        "colab": {}
      },
      "source": [
        "# exercicios - slide 62\n",
        "chaves = \"Eu prefiro morrer do que perder a vida.\""
      ],
      "execution_count": 0,
      "outputs": []
    },
    {
      "cell_type": "code",
      "metadata": {
        "id": "1UiIJ5FKOcOL",
        "colab_type": "code",
        "outputId": "96f3beec-7458-4c23-fbbc-b36e69e2c9fd",
        "colab": {}
      },
      "source": [
        "# 1) qual o tamanho da string?\n",
        "len(chaves)"
      ],
      "execution_count": 0,
      "outputs": [
        {
          "output_type": "execute_result",
          "data": {
            "text/plain": [
              "39"
            ]
          },
          "metadata": {
            "tags": []
          },
          "execution_count": 211
        }
      ]
    },
    {
      "cell_type": "code",
      "metadata": {
        "id": "7KjkZNe5OcON",
        "colab_type": "code",
        "outputId": "8f232d60-1134-4ee8-977b-e0e0023fa861",
        "colab": {}
      },
      "source": [
        "# 2) verifique se começa com \"p\"?\n",
        "\n",
        "chaves.startswith(\"p\")"
      ],
      "execution_count": 0,
      "outputs": [
        {
          "output_type": "execute_result",
          "data": {
            "text/plain": [
              "False"
            ]
          },
          "metadata": {
            "tags": []
          },
          "execution_count": 212
        }
      ]
    },
    {
      "cell_type": "code",
      "metadata": {
        "id": "wiDg3iJmOcOO",
        "colab_type": "code",
        "outputId": "b1197f59-089f-42cc-aa56-2adabaaaba2c",
        "colab": {}
      },
      "source": [
        "# 3) verifique se termina com \".\"\n",
        "\n",
        "chaves.endswith(\".\")"
      ],
      "execution_count": 0,
      "outputs": [
        {
          "output_type": "execute_result",
          "data": {
            "text/plain": [
              "True"
            ]
          },
          "metadata": {
            "tags": []
          },
          "execution_count": 213
        }
      ]
    },
    {
      "cell_type": "code",
      "metadata": {
        "id": "ttIVjfc5OcOP",
        "colab_type": "code",
        "outputId": "5e25c6a8-2d76-4038-cbda-275e849f8e3a",
        "colab": {}
      },
      "source": [
        "# 4) verifique a posição do caractere \",\"\n",
        "\n",
        "chaves.find(\",\")"
      ],
      "execution_count": 0,
      "outputs": [
        {
          "output_type": "execute_result",
          "data": {
            "text/plain": [
              "-1"
            ]
          },
          "metadata": {
            "tags": []
          },
          "execution_count": 214
        }
      ]
    },
    {
      "cell_type": "code",
      "metadata": {
        "id": "VeAsUORsOcOQ",
        "colab_type": "code",
        "outputId": "c6ce9be0-e7dd-4cf8-8f2a-f8abdf782aee",
        "colab": {}
      },
      "source": [
        "# 5) troque o caractere \".\" por \"!\"\n",
        "chaves[:-1] + \"!\""
      ],
      "execution_count": 0,
      "outputs": [
        {
          "output_type": "execute_result",
          "data": {
            "text/plain": [
              "'Eu prefiro morrer do que perder a vida!'"
            ]
          },
          "metadata": {
            "tags": []
          },
          "execution_count": 216
        }
      ]
    },
    {
      "cell_type": "code",
      "metadata": {
        "id": "HnNZzHaXOcOR",
        "colab_type": "code",
        "outputId": "92071f32-4fe1-4144-89e6-74d7fdabc12d",
        "colab": {}
      },
      "source": [
        "chaves.replace(\".\", \"!\")"
      ],
      "execution_count": 0,
      "outputs": [
        {
          "output_type": "execute_result",
          "data": {
            "text/plain": [
              "'Eu prefiro morrer do que perder a vida!'"
            ]
          },
          "metadata": {
            "tags": []
          },
          "execution_count": 217
        }
      ]
    },
    {
      "cell_type": "code",
      "metadata": {
        "id": "Z4xnGROEOcOT",
        "colab_type": "code",
        "colab": {}
      },
      "source": [
        "# 6) dada a lista de mercado, acrescente a string \"fermento em pó"
      ],
      "execution_count": 0,
      "outputs": []
    },
    {
      "cell_type": "code",
      "metadata": {
        "id": "ukMJS01BOcOV",
        "colab_type": "code",
        "colab": {}
      },
      "source": [
        "lista_de_mercado = [\"1 kg de banana\", \"12 ovos\", \"1kg de farinha\"]"
      ],
      "execution_count": 0,
      "outputs": []
    },
    {
      "cell_type": "code",
      "metadata": {
        "id": "pyCc00ucOcOW",
        "colab_type": "code",
        "colab": {}
      },
      "source": [
        "lista_de_mercado.append(\"fermento em pó\")"
      ],
      "execution_count": 0,
      "outputs": []
    },
    {
      "cell_type": "code",
      "metadata": {
        "id": "hDoNjjj7OcOY",
        "colab_type": "code",
        "outputId": "6d8147da-4aed-4cca-f048-0d78d2bf4aa4",
        "colab": {}
      },
      "source": [
        "lista_de_mercado"
      ],
      "execution_count": 0,
      "outputs": [
        {
          "output_type": "execute_result",
          "data": {
            "text/plain": [
              "['1 kg de banana', '12 ovos', '1kg de farinha', 'fermento em pó']"
            ]
          },
          "metadata": {
            "tags": []
          },
          "execution_count": 221
        }
      ]
    },
    {
      "cell_type": "markdown",
      "metadata": {
        "id": "uFknLvxbOcOa",
        "colab_type": "text"
      },
      "source": [
        "## Aula da tarde"
      ]
    },
    {
      "cell_type": "code",
      "metadata": {
        "id": "rneXa01GOcOa",
        "colab_type": "code",
        "outputId": "6eae9b5d-e5b5-4dca-f8de-c909bdee3e45",
        "colab": {}
      },
      "source": [
        "# slide 62\n",
        "# marcadores de variáveis\n",
        "\n",
        "a = 3.0112\n",
        "print(\"Resultado = {}\".format(int(a)))"
      ],
      "execution_count": 0,
      "outputs": [
        {
          "output_type": "stream",
          "text": [
            "Resultado = 3\n"
          ],
          "name": "stdout"
        }
      ]
    },
    {
      "cell_type": "code",
      "metadata": {
        "id": "oI6PWQnkOcOb",
        "colab_type": "code",
        "outputId": "638fe7af-11bf-40bd-b020-d778a6528c76",
        "colab": {}
      },
      "source": [
        "# slide 63 \n",
        "c = \"3.0112\"\n",
        "print(\"Resultado = {}\".format(c))"
      ],
      "execution_count": 0,
      "outputs": [
        {
          "output_type": "stream",
          "text": [
            "Resultado = 3.0112\n"
          ],
          "name": "stdout"
        }
      ]
    },
    {
      "cell_type": "code",
      "metadata": {
        "id": "2LcAhTaSOcOd",
        "colab_type": "code",
        "outputId": "0a405b91-c5ca-4507-9f5e-c50968923100",
        "colab": {}
      },
      "source": [
        "d = 3.0112\n",
        "print(\"Resultado = {:.2f}\". format(d) )"
      ],
      "execution_count": 0,
      "outputs": [
        {
          "output_type": "stream",
          "text": [
            "Resultado = 3.01\n"
          ],
          "name": "stdout"
        }
      ]
    },
    {
      "cell_type": "code",
      "metadata": {
        "id": "EFgM00iTOcOe",
        "colab_type": "code",
        "outputId": "5acb8258-3c85-4e06-9c68-9e973758653f",
        "colab": {}
      },
      "source": [
        "# slide 64\n",
        "dir(\"Felino\") # dir - Lista dos comandos válidos para a variável"
      ],
      "execution_count": 0,
      "outputs": [
        {
          "output_type": "execute_result",
          "data": {
            "text/plain": [
              "['__add__',\n",
              " '__class__',\n",
              " '__contains__',\n",
              " '__delattr__',\n",
              " '__dir__',\n",
              " '__doc__',\n",
              " '__eq__',\n",
              " '__format__',\n",
              " '__ge__',\n",
              " '__getattribute__',\n",
              " '__getitem__',\n",
              " '__getnewargs__',\n",
              " '__gt__',\n",
              " '__hash__',\n",
              " '__init__',\n",
              " '__init_subclass__',\n",
              " '__iter__',\n",
              " '__le__',\n",
              " '__len__',\n",
              " '__lt__',\n",
              " '__mod__',\n",
              " '__mul__',\n",
              " '__ne__',\n",
              " '__new__',\n",
              " '__reduce__',\n",
              " '__reduce_ex__',\n",
              " '__repr__',\n",
              " '__rmod__',\n",
              " '__rmul__',\n",
              " '__setattr__',\n",
              " '__sizeof__',\n",
              " '__str__',\n",
              " '__subclasshook__',\n",
              " 'capitalize',\n",
              " 'casefold',\n",
              " 'center',\n",
              " 'count',\n",
              " 'encode',\n",
              " 'endswith',\n",
              " 'expandtabs',\n",
              " 'find',\n",
              " 'format',\n",
              " 'format_map',\n",
              " 'index',\n",
              " 'isalnum',\n",
              " 'isalpha',\n",
              " 'isascii',\n",
              " 'isdecimal',\n",
              " 'isdigit',\n",
              " 'isidentifier',\n",
              " 'islower',\n",
              " 'isnumeric',\n",
              " 'isprintable',\n",
              " 'isspace',\n",
              " 'istitle',\n",
              " 'isupper',\n",
              " 'join',\n",
              " 'ljust',\n",
              " 'lower',\n",
              " 'lstrip',\n",
              " 'maketrans',\n",
              " 'partition',\n",
              " 'replace',\n",
              " 'rfind',\n",
              " 'rindex',\n",
              " 'rjust',\n",
              " 'rpartition',\n",
              " 'rsplit',\n",
              " 'rstrip',\n",
              " 'split',\n",
              " 'splitlines',\n",
              " 'startswith',\n",
              " 'strip',\n",
              " 'swapcase',\n",
              " 'title',\n",
              " 'translate',\n",
              " 'upper',\n",
              " 'zfill']"
            ]
          },
          "metadata": {
            "tags": []
          },
          "execution_count": 229
        }
      ]
    },
    {
      "cell_type": "code",
      "metadata": {
        "id": "xYu3DtfPOcOf",
        "colab_type": "code",
        "outputId": "d7bf1cef-80f8-4ef1-b15d-4593fa9d2717",
        "colab": {}
      },
      "source": [
        "# help - slide 65\n",
        "\n",
        "help(\"PyLadies\".upper)"
      ],
      "execution_count": 0,
      "outputs": [
        {
          "output_type": "stream",
          "text": [
            "Help on built-in function upper:\n",
            "\n",
            "upper() method of builtins.str instance\n",
            "    Return a copy of the string converted to uppercase.\n",
            "\n"
          ],
          "name": "stdout"
        }
      ]
    },
    {
      "cell_type": "code",
      "metadata": {
        "id": "7QRg2Y9dOcOh",
        "colab_type": "code",
        "outputId": "99294d15-418d-4ded-e46b-fb6a6c4a8867",
        "colab": {
          "base_uri": "https://localhost:8080/",
          "height": 51
        }
      },
      "source": [
        "# Entrada de dados\n",
        "# slide 66-67\n",
        "nome = input(\"Qual é o seu nome? \")\n",
        "nome"
      ],
      "execution_count": 1,
      "outputs": [
        {
          "output_type": "stream",
          "text": [
            "Qual é o seu nome? Daviny\n"
          ],
          "name": "stdout"
        },
        {
          "output_type": "execute_result",
          "data": {
            "text/plain": [
              "'Daviny'"
            ]
          },
          "metadata": {
            "tags": []
          },
          "execution_count": 1
        }
      ]
    },
    {
      "cell_type": "code",
      "metadata": {
        "id": "qm44-0_bOcOi",
        "colab_type": "code",
        "outputId": "1f8d8023-82ac-43a9-a8e4-8a3e2592176a",
        "colab": {
          "base_uri": "https://localhost:8080/",
          "height": 51
        }
      },
      "source": [
        "idade = int(input(\"Quantos anos você tem? \"))\n",
        "idade"
      ],
      "execution_count": 2,
      "outputs": [
        {
          "output_type": "stream",
          "text": [
            "Quantos anos você tem? 27\n"
          ],
          "name": "stdout"
        },
        {
          "output_type": "execute_result",
          "data": {
            "text/plain": [
              "27"
            ]
          },
          "metadata": {
            "tags": []
          },
          "execution_count": 2
        }
      ]
    },
    {
      "cell_type": "code",
      "metadata": {
        "id": "jwRtgF5xOcOj",
        "colab_type": "code",
        "outputId": "5a4048f3-b26c-4b4a-8363-53c6a98d7a79",
        "colab": {
          "base_uri": "https://localhost:8080/",
          "height": 51
        }
      },
      "source": [
        "altura = float(input(\"Qual é a sua altura em metros? \"))\n",
        "altura"
      ],
      "execution_count": 4,
      "outputs": [
        {
          "output_type": "stream",
          "text": [
            "Qual é a sua altura em metros? 1.70\n"
          ],
          "name": "stdout"
        },
        {
          "output_type": "execute_result",
          "data": {
            "text/plain": [
              "1.7"
            ]
          },
          "metadata": {
            "tags": []
          },
          "execution_count": 4
        }
      ]
    },
    {
      "cell_type": "code",
      "metadata": {
        "id": "IDpRiV5sOcOk",
        "colab_type": "code",
        "outputId": "fd8502d5-be02-4c27-8620-67b07067d657",
        "colab": {}
      },
      "source": [
        "type(nome)"
      ],
      "execution_count": 0,
      "outputs": [
        {
          "output_type": "execute_result",
          "data": {
            "text/plain": [
              "str"
            ]
          },
          "metadata": {
            "tags": []
          },
          "execution_count": 18
        }
      ]
    },
    {
      "cell_type": "code",
      "metadata": {
        "id": "yAEGR6X-OcOo",
        "colab_type": "code",
        "outputId": "654e625b-5cf4-44f2-97ed-db490652013c",
        "colab": {}
      },
      "source": [
        "type(idade)"
      ],
      "execution_count": 0,
      "outputs": [
        {
          "output_type": "execute_result",
          "data": {
            "text/plain": [
              "int"
            ]
          },
          "metadata": {
            "tags": []
          },
          "execution_count": 19
        }
      ]
    },
    {
      "cell_type": "code",
      "metadata": {
        "id": "1q_yxPp1OcOp",
        "colab_type": "code",
        "outputId": "f4e4999b-86ca-4fde-b6c0-f1665758e507",
        "colab": {}
      },
      "source": [
        "type(altura)"
      ],
      "execution_count": 0,
      "outputs": [
        {
          "output_type": "execute_result",
          "data": {
            "text/plain": [
              "float"
            ]
          },
          "metadata": {
            "tags": []
          },
          "execution_count": 20
        }
      ]
    },
    {
      "cell_type": "markdown",
      "metadata": {
        "id": "LyMHo5qoOcOq",
        "colab_type": "text"
      },
      "source": [
        "### Condicionais"
      ]
    },
    {
      "cell_type": "markdown",
      "metadata": {
        "id": "P3sJeTDGOcOq",
        "colab_type": "text"
      },
      "source": [
        "### If e else"
      ]
    },
    {
      "cell_type": "code",
      "metadata": {
        "id": "U_2rGLTHOcOr",
        "colab_type": "code",
        "outputId": "d1609ec0-1bc5-40f0-b1aa-99c60aed2db1",
        "colab": {}
      },
      "source": [
        "# Exercicio slide 75\n",
        "import random\n",
        "\n",
        "numero_correto = random.choice(range(1,11))\n",
        "\n",
        "numero_adivinhado = int(input(\"Digite um número de 1 a 10: \"))\n",
        "\n",
        "if numero_correto == numero_adivinhado:\n",
        "    print(\"Parabéns, você acertou! O número correto é\", numero_correto, \"!\")\n",
        "elif numero_correto > numero_adivinhado:\n",
        "    print(\"O número correto é maior do que o número que você digitou! O número correto é\", numero_correto, \"!\")\n",
        "else:\n",
        "    print(\"O número correto é menor do que o número que você digitou! O número correto é\", numero_correto, \"!\")"
      ],
      "execution_count": 0,
      "outputs": [
        {
          "output_type": "stream",
          "text": [
            "Digite um número de 1 a 10:  6\n"
          ],
          "name": "stdin"
        },
        {
          "output_type": "stream",
          "text": [
            "O número correto é maior do que o número que você digitou! O número correto é 9 !\n"
          ],
          "name": "stdout"
        }
      ]
    },
    {
      "cell_type": "markdown",
      "metadata": {
        "id": "UsqcpMboOcOt",
        "colab_type": "text"
      },
      "source": [
        "### While - estrutura de repetição"
      ]
    },
    {
      "cell_type": "code",
      "metadata": {
        "id": "kLFChCAoOcOt",
        "colab_type": "code",
        "colab": {}
      },
      "source": [
        "### exercicio slide 80 - me empolguei no exercício, tem mais coisa do que realmente precisa!\n",
        "contador = 1\n",
        "soma = 0\n",
        "dias_de_curso = int(input(\"Quantos dias durou o curso? \"))\n",
        "\n",
        "meta_gasto = float(input(\"Qual é a sua meta de gasto por dia? \"))\n",
        "\n",
        "while contador <= dias_de_curso :\n",
        "    gasto = float(input(print(\"Quanto você gastou no dia\", contador, \"?\")))\n",
        "    if gasto < 0:\n",
        "        print(\"Vamos parando por aqui! Você não pode adicionar um gasto negativo!\")\n",
        "        break\n",
        "    soma += gasto\n",
        "    contador += 1\n",
        "print(\"Você gastou um total de R$ \", soma, \"reais.\")\n",
        "\n",
        "if soma/dias_de_curso > meta_gasto:\n",
        "    print(\"Cuidado, você precisa gastar menos!\")\n",
        "else:\n",
        "    print(\"Parabéns, você está gastando dentro do planejado!\")"
      ],
      "execution_count": 0,
      "outputs": []
    },
    {
      "cell_type": "markdown",
      "metadata": {
        "id": "GoErPBTZOcOv",
        "colab_type": "text"
      },
      "source": [
        "### For (para)"
      ]
    },
    {
      "cell_type": "code",
      "metadata": {
        "id": "CfKjLW0GOcOv",
        "colab_type": "code",
        "outputId": "a5ae1206-13ec-4446-db17-c530cef7d210",
        "colab": {}
      },
      "source": [
        "# slide 86\n",
        "# exercicio\n",
        "linguagens = [\"Java\", \"JavaScript\", \"PHP\", \"C\", \"Python\", \"R\"]\n",
        "\n",
        "for i in linguagens:\n",
        "    if i.startswith(\"P\"):\n",
        "        print(i)"
      ],
      "execution_count": 0,
      "outputs": [
        {
          "output_type": "stream",
          "text": [
            "PHP\n",
            "Python\n"
          ],
          "name": "stdout"
        }
      ]
    },
    {
      "cell_type": "markdown",
      "metadata": {
        "id": "GhgeyMuuOcOw",
        "colab_type": "text"
      },
      "source": [
        "----------------"
      ]
    },
    {
      "cell_type": "markdown",
      "metadata": {
        "id": "EvjUrHstOcOw",
        "colab_type": "text"
      },
      "source": [
        "**Para depois:**\n",
        "\n",
        "- Instalar xelatex para conseguir exportar o notebook em PDF"
      ]
    }
  ]
}